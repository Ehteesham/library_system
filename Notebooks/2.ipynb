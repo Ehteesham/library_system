{
 "cells": [
  {
   "cell_type": "code",
   "execution_count": 1,
   "metadata": {},
   "outputs": [],
   "source": [
    "import pandas as pd\n",
    "import numpy as np\n",
    "from sklearn.feature_extraction.text import TfidfVectorizer \n",
    "from sklearn.metrics.pairwise import cosine_similarity\n",
    "import difflib"
   ]
  },
  {
   "cell_type": "code",
   "execution_count": 2,
   "metadata": {},
   "outputs": [],
   "source": [
    "df = pd.read_csv(\"D:/CodeClause/Library Management System/Data/books_manegment.csv\")"
   ]
  },
  {
   "cell_type": "code",
   "execution_count": 3,
   "metadata": {},
   "outputs": [
    {
     "data": {
      "text/html": [
       "<div>\n",
       "<style scoped>\n",
       "    .dataframe tbody tr th:only-of-type {\n",
       "        vertical-align: middle;\n",
       "    }\n",
       "\n",
       "    .dataframe tbody tr th {\n",
       "        vertical-align: top;\n",
       "    }\n",
       "\n",
       "    .dataframe thead th {\n",
       "        text-align: right;\n",
       "    }\n",
       "</style>\n",
       "<table border=\"1\" class=\"dataframe\">\n",
       "  <thead>\n",
       "    <tr style=\"text-align: right;\">\n",
       "      <th></th>\n",
       "      <th>Book Name</th>\n",
       "      <th>Author Name</th>\n",
       "      <th>Genre</th>\n",
       "      <th>Date</th>\n",
       "      <th>Time</th>\n",
       "    </tr>\n",
       "  </thead>\n",
       "  <tbody>\n",
       "    <tr>\n",
       "      <th>0</th>\n",
       "      <td>Harry Potter</td>\n",
       "      <td>Rilliam</td>\n",
       "      <td>Entertainment</td>\n",
       "      <td>2023 09 15</td>\n",
       "      <td>08:16:24 PM</td>\n",
       "    </tr>\n",
       "    <tr>\n",
       "      <th>1</th>\n",
       "      <td>Your Name</td>\n",
       "      <td>Ansari</td>\n",
       "      <td>Technology</td>\n",
       "      <td>2023 09 15</td>\n",
       "      <td>08:24:58 PM</td>\n",
       "    </tr>\n",
       "    <tr>\n",
       "      <th>2</th>\n",
       "      <td>Ehteesham</td>\n",
       "      <td>silioam</td>\n",
       "      <td>Entertainment</td>\n",
       "      <td>2023 09 15</td>\n",
       "      <td>08:28:39 PM</td>\n",
       "    </tr>\n",
       "    <tr>\n",
       "      <th>3</th>\n",
       "      <td>Alien Part - 3</td>\n",
       "      <td>Ansari</td>\n",
       "      <td>Entertainment</td>\n",
       "      <td>2023 09 15</td>\n",
       "      <td>08:53:33 PM</td>\n",
       "    </tr>\n",
       "    <tr>\n",
       "      <th>4</th>\n",
       "      <td>Alien Part - 2</td>\n",
       "      <td>Ansari EHteesham</td>\n",
       "      <td>Entertainment</td>\n",
       "      <td>2023 09 15</td>\n",
       "      <td>08:54:35 PM</td>\n",
       "    </tr>\n",
       "    <tr>\n",
       "      <th>5</th>\n",
       "      <td>Alien Part 5</td>\n",
       "      <td>Ansari</td>\n",
       "      <td>Finance</td>\n",
       "      <td>2023 09 15</td>\n",
       "      <td>08:55:59 PM</td>\n",
       "    </tr>\n",
       "    <tr>\n",
       "      <th>6</th>\n",
       "      <td>Hello Potter</td>\n",
       "      <td>Why This</td>\n",
       "      <td>Entertainment</td>\n",
       "      <td>2023 09 15</td>\n",
       "      <td>09:49:50 PM</td>\n",
       "    </tr>\n",
       "  </tbody>\n",
       "</table>\n",
       "</div>"
      ],
      "text/plain": [
       "        Book Name       Author Name          Genre        Date         Time\n",
       "0    Harry Potter           Rilliam  Entertainment  2023 09 15  08:16:24 PM\n",
       "1       Your Name            Ansari     Technology  2023 09 15  08:24:58 PM\n",
       "2       Ehteesham           silioam  Entertainment  2023 09 15  08:28:39 PM\n",
       "3  Alien Part - 3            Ansari  Entertainment  2023 09 15  08:53:33 PM\n",
       "4  Alien Part - 2  Ansari EHteesham  Entertainment  2023 09 15  08:54:35 PM\n",
       "5    Alien Part 5           Ansari         Finance  2023 09 15  08:55:59 PM\n",
       "6    Hello Potter         Why This   Entertainment  2023 09 15  09:49:50 PM"
      ]
     },
     "execution_count": 3,
     "metadata": {},
     "output_type": "execute_result"
    }
   ],
   "source": [
    "df"
   ]
  },
  {
   "cell_type": "code",
   "execution_count": 8,
   "metadata": {},
   "outputs": [],
   "source": [
    "df_ = df[[\"Book Name\", \"Author Name\", \"Genre\"]]"
   ]
  },
  {
   "cell_type": "code",
   "execution_count": 9,
   "metadata": {},
   "outputs": [
    {
     "data": {
      "text/html": [
       "<div>\n",
       "<style scoped>\n",
       "    .dataframe tbody tr th:only-of-type {\n",
       "        vertical-align: middle;\n",
       "    }\n",
       "\n",
       "    .dataframe tbody tr th {\n",
       "        vertical-align: top;\n",
       "    }\n",
       "\n",
       "    .dataframe thead th {\n",
       "        text-align: right;\n",
       "    }\n",
       "</style>\n",
       "<table border=\"1\" class=\"dataframe\">\n",
       "  <thead>\n",
       "    <tr style=\"text-align: right;\">\n",
       "      <th></th>\n",
       "      <th>Book Name</th>\n",
       "      <th>Author Name</th>\n",
       "      <th>Genre</th>\n",
       "    </tr>\n",
       "  </thead>\n",
       "  <tbody>\n",
       "    <tr>\n",
       "      <th>0</th>\n",
       "      <td>Harry Potter</td>\n",
       "      <td>Rilliam</td>\n",
       "      <td>Entertainment</td>\n",
       "    </tr>\n",
       "    <tr>\n",
       "      <th>1</th>\n",
       "      <td>Your Name</td>\n",
       "      <td>Ansari</td>\n",
       "      <td>Technology</td>\n",
       "    </tr>\n",
       "    <tr>\n",
       "      <th>2</th>\n",
       "      <td>Ehteesham</td>\n",
       "      <td>silioam</td>\n",
       "      <td>Entertainment</td>\n",
       "    </tr>\n",
       "    <tr>\n",
       "      <th>3</th>\n",
       "      <td>Alien Part - 3</td>\n",
       "      <td>Ansari</td>\n",
       "      <td>Entertainment</td>\n",
       "    </tr>\n",
       "    <tr>\n",
       "      <th>4</th>\n",
       "      <td>Alien Part - 2</td>\n",
       "      <td>Ansari EHteesham</td>\n",
       "      <td>Entertainment</td>\n",
       "    </tr>\n",
       "    <tr>\n",
       "      <th>5</th>\n",
       "      <td>Alien Part 5</td>\n",
       "      <td>Ansari</td>\n",
       "      <td>Finance</td>\n",
       "    </tr>\n",
       "    <tr>\n",
       "      <th>6</th>\n",
       "      <td>Hello Potter</td>\n",
       "      <td>Why This</td>\n",
       "      <td>Entertainment</td>\n",
       "    </tr>\n",
       "  </tbody>\n",
       "</table>\n",
       "</div>"
      ],
      "text/plain": [
       "        Book Name       Author Name          Genre\n",
       "0    Harry Potter           Rilliam  Entertainment\n",
       "1       Your Name            Ansari     Technology\n",
       "2       Ehteesham           silioam  Entertainment\n",
       "3  Alien Part - 3            Ansari  Entertainment\n",
       "4  Alien Part - 2  Ansari EHteesham  Entertainment\n",
       "5    Alien Part 5           Ansari         Finance\n",
       "6    Hello Potter         Why This   Entertainment"
      ]
     },
     "execution_count": 9,
     "metadata": {},
     "output_type": "execute_result"
    }
   ],
   "source": [
    "df_"
   ]
  },
  {
   "cell_type": "code",
   "execution_count": 10,
   "metadata": {},
   "outputs": [],
   "source": [
    "x = df_[\"Book Name\"] + \" \" + df_[\"Author Name\"] + \" \" + df_[\"Genre\"]"
   ]
  },
  {
   "cell_type": "code",
   "execution_count": 11,
   "metadata": {},
   "outputs": [
    {
     "data": {
      "text/plain": [
       "0               Harry Potter Rilliam Entertainment\n",
       "1                      Your Name Ansari Technology\n",
       "2                  Ehteesham silioam Entertainment\n",
       "3              Alien Part - 3 Ansari Entertainment\n",
       "4    Alien Part - 2 Ansari EHteesham Entertainment\n",
       "5                     Alien Part 5 Ansari  Finance\n",
       "6             Hello Potter Why This  Entertainment\n",
       "dtype: object"
      ]
     },
     "execution_count": 11,
     "metadata": {},
     "output_type": "execute_result"
    }
   ],
   "source": [
    "x"
   ]
  },
  {
   "cell_type": "code",
   "execution_count": 12,
   "metadata": {},
   "outputs": [],
   "source": [
    "tfidf = TfidfVectorizer()"
   ]
  },
  {
   "cell_type": "code",
   "execution_count": 13,
   "metadata": {},
   "outputs": [],
   "source": [
    "X = tfidf.fit_transform(x)"
   ]
  },
  {
   "cell_type": "code",
   "execution_count": 18,
   "metadata": {},
   "outputs": [
    {
     "name": "stdout",
     "output_type": "stream",
     "text": [
      "  (0, 3)\t0.31257907911644855\n",
      "  (0, 10)\t0.579262311604141\n",
      "  (0, 9)\t0.48083746527154797\n",
      "  (0, 5)\t0.579262311604141\n",
      "  (1, 12)\t0.5439701462793114\n",
      "  (1, 1)\t0.3350961651087548\n",
      "  (1, 7)\t0.5439701462793114\n",
      "  (1, 15)\t0.5439701462793114\n",
      "  (2, 11)\t0.7106281860049563\n",
      "  (2, 2)\t0.5898824226331707\n",
      "  (2, 3)\t0.3834661767662525\n",
      "  (3, 8)\t0.547816986227786\n",
      "  (3, 0)\t0.547816986227786\n",
      "  (3, 1)\t0.47561899353072534\n",
      "  (3, 3)\t0.4166289382573313\n",
      "  (4, 8)\t0.4612227756787984\n",
      "  (4, 0)\t0.4612227756787984\n",
      "  (4, 2)\t0.539588983585992\n",
      "  (4, 1)\t0.4004372224241028\n",
      "  (4, 3)\t0.3507718091298034\n",
      "  (5, 4)\t0.6473413699710675\n",
      "  (5, 8)\t0.45930805238627415\n",
      "  (5, 0)\t0.45930805238627415\n",
      "  (5, 1)\t0.3987748446808513\n",
      "  (6, 13)\t0.5012403660704882\n",
      "  (6, 14)\t0.5012403660704882\n",
      "  (6, 6)\t0.5012403660704882\n",
      "  (6, 3)\t0.27047720679155046\n",
      "  (6, 9)\t0.41607255000878157\n"
     ]
    }
   ],
   "source": [
    "print(X)"
   ]
  },
  {
   "cell_type": "code",
   "execution_count": 19,
   "metadata": {},
   "outputs": [],
   "source": [
    "similarity_score = cosine_similarity(X)"
   ]
  },
  {
   "cell_type": "code",
   "execution_count": 20,
   "metadata": {},
   "outputs": [
    {
     "data": {
      "text/plain": [
       "array([[1.        , 0.        , 0.1198635 , 0.13022949, 0.10964393,\n",
       "        0.        , 0.28460879],\n",
       "       [0.        , 1.        , 0.        , 0.1593781 , 0.13418498,\n",
       "        0.13362792, 0.        ],\n",
       "       [0.1198635 , 0.        , 1.        , 0.15976311, 0.45280318,\n",
       "        0.        , 0.10371886],\n",
       "       [0.13022949, 0.1593781 , 0.15976311, 1.        , 0.84192858,\n",
       "        0.6928984 , 0.11268863],\n",
       "       [0.10964393, 0.13418498, 0.45280318, 0.84192858, 1.        ,\n",
       "        0.58337096, 0.09487578],\n",
       "       [0.        , 0.13362792, 0.        , 0.6928984 , 0.58337096,\n",
       "        1.        , 0.        ],\n",
       "       [0.28460879, 0.        , 0.10371886, 0.11268863, 0.09487578,\n",
       "        0.        , 1.        ]])"
      ]
     },
     "execution_count": 20,
     "metadata": {},
     "output_type": "execute_result"
    }
   ],
   "source": [
    "similarity_score"
   ]
  },
  {
   "cell_type": "code",
   "execution_count": 21,
   "metadata": {},
   "outputs": [
    {
     "data": {
      "text/plain": [
       "7"
      ]
     },
     "execution_count": 21,
     "metadata": {},
     "output_type": "execute_result"
    }
   ],
   "source": [
    "len(similarity_score)"
   ]
  },
  {
   "cell_type": "code",
   "execution_count": 22,
   "metadata": {},
   "outputs": [],
   "source": [
    "Favourite_movie_name = input(\"Enter your favourite movie name : \")"
   ]
  },
  {
   "cell_type": "code",
   "execution_count": 23,
   "metadata": {},
   "outputs": [],
   "source": [
    "all_books_list = df_[\"Book Name\"].tolist()"
   ]
  },
  {
   "cell_type": "code",
   "execution_count": 25,
   "metadata": {},
   "outputs": [],
   "source": [
    "book_recommendation = difflib.get_close_matches(Favourite_movie_name, all_books_list)"
   ]
  },
  {
   "cell_type": "code",
   "execution_count": 26,
   "metadata": {},
   "outputs": [
    {
     "data": {
      "text/plain": [
       "['Harry Potter', 'Hello Potter']"
      ]
     },
     "execution_count": 26,
     "metadata": {},
     "output_type": "execute_result"
    }
   ],
   "source": [
    "book_recommendation"
   ]
  },
  {
   "cell_type": "code",
   "execution_count": 27,
   "metadata": {},
   "outputs": [],
   "source": [
    "book_recommendation = book_recommendation[0]"
   ]
  },
  {
   "cell_type": "code",
   "execution_count": 28,
   "metadata": {},
   "outputs": [
    {
     "data": {
      "text/plain": [
       "'Harry Potter'"
      ]
     },
     "execution_count": 28,
     "metadata": {},
     "output_type": "execute_result"
    }
   ],
   "source": [
    "book_recommendation"
   ]
  },
  {
   "cell_type": "code",
   "execution_count": 32,
   "metadata": {},
   "outputs": [
    {
     "data": {
      "text/plain": [
       "0"
      ]
     },
     "execution_count": 32,
     "metadata": {},
     "output_type": "execute_result"
    }
   ],
   "source": [
    "df_[df_[\"Book Name\"] == book_recommendation].index[0]"
   ]
  },
  {
   "cell_type": "code",
   "execution_count": 37,
   "metadata": {},
   "outputs": [],
   "source": [
    "import pandas as pd"
   ]
  },
  {
   "cell_type": "code",
   "execution_count": 63,
   "metadata": {},
   "outputs": [],
   "source": [
    "book_df = pd.read_csv(\"D:/CodeClause/Library Management System/Data/books_manegment.csv\")"
   ]
  },
  {
   "cell_type": "code",
   "execution_count": 64,
   "metadata": {},
   "outputs": [
    {
     "data": {
      "text/html": [
       "<div>\n",
       "<style scoped>\n",
       "    .dataframe tbody tr th:only-of-type {\n",
       "        vertical-align: middle;\n",
       "    }\n",
       "\n",
       "    .dataframe tbody tr th {\n",
       "        vertical-align: top;\n",
       "    }\n",
       "\n",
       "    .dataframe thead th {\n",
       "        text-align: right;\n",
       "    }\n",
       "</style>\n",
       "<table border=\"1\" class=\"dataframe\">\n",
       "  <thead>\n",
       "    <tr style=\"text-align: right;\">\n",
       "      <th></th>\n",
       "      <th>Book Name</th>\n",
       "      <th>Author Name</th>\n",
       "      <th>Genre</th>\n",
       "      <th>Date</th>\n",
       "      <th>Time</th>\n",
       "    </tr>\n",
       "  </thead>\n",
       "  <tbody>\n",
       "    <tr>\n",
       "      <th>0</th>\n",
       "      <td>Harry Potter</td>\n",
       "      <td>Rilliam</td>\n",
       "      <td>Entertainment</td>\n",
       "      <td>2023 09 15</td>\n",
       "      <td>08:16:24 PM</td>\n",
       "    </tr>\n",
       "    <tr>\n",
       "      <th>1</th>\n",
       "      <td>Your Name</td>\n",
       "      <td>Ansari</td>\n",
       "      <td>Technology</td>\n",
       "      <td>2023 09 15</td>\n",
       "      <td>08:24:58 PM</td>\n",
       "    </tr>\n",
       "    <tr>\n",
       "      <th>2</th>\n",
       "      <td>Ehteesham</td>\n",
       "      <td>silioam</td>\n",
       "      <td>Entertainment</td>\n",
       "      <td>2023 09 15</td>\n",
       "      <td>08:28:39 PM</td>\n",
       "    </tr>\n",
       "    <tr>\n",
       "      <th>3</th>\n",
       "      <td>Alien Part - 3</td>\n",
       "      <td>Ansari</td>\n",
       "      <td>Entertainment</td>\n",
       "      <td>2023 09 15</td>\n",
       "      <td>08:53:33 PM</td>\n",
       "    </tr>\n",
       "    <tr>\n",
       "      <th>4</th>\n",
       "      <td>Alien Part - 2</td>\n",
       "      <td>Ansari EHteesham</td>\n",
       "      <td>Entertainment</td>\n",
       "      <td>2023 09 15</td>\n",
       "      <td>08:54:35 PM</td>\n",
       "    </tr>\n",
       "    <tr>\n",
       "      <th>5</th>\n",
       "      <td>Alien Part 5</td>\n",
       "      <td>Ansari</td>\n",
       "      <td>Finance</td>\n",
       "      <td>2023 09 15</td>\n",
       "      <td>08:55:59 PM</td>\n",
       "    </tr>\n",
       "    <tr>\n",
       "      <th>6</th>\n",
       "      <td>Hello Potter</td>\n",
       "      <td>Why This</td>\n",
       "      <td>Entertainment</td>\n",
       "      <td>2023 09 15</td>\n",
       "      <td>09:49:50 PM</td>\n",
       "    </tr>\n",
       "    <tr>\n",
       "      <th>7</th>\n",
       "      <td>Fantastic Beasts and Where to Find Them</td>\n",
       "      <td>J K. ROFLING</td>\n",
       "      <td>NaN</td>\n",
       "      <td>NaN</td>\n",
       "      <td>NaN</td>\n",
       "    </tr>\n",
       "    <tr>\n",
       "      <th>8</th>\n",
       "      <td>Harry Potter - The Illustrated Collection</td>\n",
       "      <td>J. K. Rowling</td>\n",
       "      <td>NaN</td>\n",
       "      <td>NaN</td>\n",
       "      <td>NaN</td>\n",
       "    </tr>\n",
       "    <tr>\n",
       "      <th>9</th>\n",
       "      <td>Harry Potter and the Cursed Child</td>\n",
       "      <td>J. K. Rowling</td>\n",
       "      <td>Fiction</td>\n",
       "      <td>NaN</td>\n",
       "      <td>NaN</td>\n",
       "    </tr>\n",
       "    <tr>\n",
       "      <th>10</th>\n",
       "      <td>Harry Potter: The Dark Arts (Tiny Book)</td>\n",
       "      <td>Insight Editions</td>\n",
       "      <td>Art</td>\n",
       "      <td>NaN</td>\n",
       "      <td>NaN</td>\n",
       "    </tr>\n",
       "    <tr>\n",
       "      <th>11</th>\n",
       "      <td>The Psychology of Harry Potter</td>\n",
       "      <td>Neil Mulholland</td>\n",
       "      <td>Literary Criticism</td>\n",
       "      <td>NaN</td>\n",
       "      <td>NaN</td>\n",
       "    </tr>\n",
       "    <tr>\n",
       "      <th>12</th>\n",
       "      <td>The Ultimate Harry Potter and Philosophy</td>\n",
       "      <td>William Irwin</td>\n",
       "      <td>Philosophy</td>\n",
       "      <td>NaN</td>\n",
       "      <td>NaN</td>\n",
       "    </tr>\n",
       "    <tr>\n",
       "      <th>13</th>\n",
       "      <td>A Journey Through Charms and Defence Against t...</td>\n",
       "      <td>Pottermore Publishing</td>\n",
       "      <td>Science</td>\n",
       "      <td>NaN</td>\n",
       "      <td>NaN</td>\n",
       "    </tr>\n",
       "    <tr>\n",
       "      <th>14</th>\n",
       "      <td>Harry Potter and History</td>\n",
       "      <td>Nancy Reagin</td>\n",
       "      <td>History</td>\n",
       "      <td>NaN</td>\n",
       "      <td>NaN</td>\n",
       "    </tr>\n",
       "    <tr>\n",
       "      <th>15</th>\n",
       "      <td>Harry Potter and the Philosopher's Stone - 25t...</td>\n",
       "      <td>J. K. Rowling</td>\n",
       "      <td>Juvenile Fiction</td>\n",
       "      <td>NaN</td>\n",
       "      <td>NaN</td>\n",
       "    </tr>\n",
       "    <tr>\n",
       "      <th>16</th>\n",
       "      <td>Very Good Lives</td>\n",
       "      <td>J.K. Rowling</td>\n",
       "      <td>Self-Help</td>\n",
       "      <td>NaN</td>\n",
       "      <td>NaN</td>\n",
       "    </tr>\n",
       "  </tbody>\n",
       "</table>\n",
       "</div>"
      ],
      "text/plain": [
       "                                            Book Name            Author Name  \\\n",
       "0                                        Harry Potter                Rilliam   \n",
       "1                                           Your Name                 Ansari   \n",
       "2                                           Ehteesham                silioam   \n",
       "3                                      Alien Part - 3                 Ansari   \n",
       "4                                      Alien Part - 2       Ansari EHteesham   \n",
       "5                                        Alien Part 5                Ansari    \n",
       "6                                        Hello Potter              Why This    \n",
       "7             Fantastic Beasts and Where to Find Them           J K. ROFLING   \n",
       "8           Harry Potter - The Illustrated Collection          J. K. Rowling   \n",
       "9                   Harry Potter and the Cursed Child          J. K. Rowling   \n",
       "10            Harry Potter: The Dark Arts (Tiny Book)       Insight Editions   \n",
       "11                     The Psychology of Harry Potter        Neil Mulholland   \n",
       "12           The Ultimate Harry Potter and Philosophy          William Irwin   \n",
       "13  A Journey Through Charms and Defence Against t...  Pottermore Publishing   \n",
       "14                           Harry Potter and History           Nancy Reagin   \n",
       "15  Harry Potter and the Philosopher's Stone - 25t...          J. K. Rowling   \n",
       "16                                    Very Good Lives           J.K. Rowling   \n",
       "\n",
       "                 Genre        Date         Time  \n",
       "0        Entertainment  2023 09 15  08:16:24 PM  \n",
       "1           Technology  2023 09 15  08:24:58 PM  \n",
       "2        Entertainment  2023 09 15  08:28:39 PM  \n",
       "3        Entertainment  2023 09 15  08:53:33 PM  \n",
       "4        Entertainment  2023 09 15  08:54:35 PM  \n",
       "5              Finance  2023 09 15  08:55:59 PM  \n",
       "6        Entertainment  2023 09 15  09:49:50 PM  \n",
       "7                  NaN         NaN          NaN  \n",
       "8                  NaN         NaN          NaN  \n",
       "9              Fiction         NaN          NaN  \n",
       "10                 Art         NaN          NaN  \n",
       "11  Literary Criticism         NaN          NaN  \n",
       "12          Philosophy         NaN          NaN  \n",
       "13             Science         NaN          NaN  \n",
       "14             History         NaN          NaN  \n",
       "15    Juvenile Fiction         NaN          NaN  \n",
       "16           Self-Help         NaN          NaN  "
      ]
     },
     "execution_count": 64,
     "metadata": {},
     "output_type": "execute_result"
    }
   ],
   "source": [
    "book_df"
   ]
  },
  {
   "cell_type": "code",
   "execution_count": null,
   "metadata": {},
   "outputs": [],
   "source": []
  },
  {
   "cell_type": "code",
   "execution_count": 60,
   "metadata": {},
   "outputs": [
    {
     "name": "stdout",
     "output_type": "stream",
     "text": [
      "Books related to 'Harry Potter':\n",
      "Title: Fantastic Beasts and Where to Find Them\n",
      "Authors: J,  , K, .,  , R, O, F, L, I, N, G\n",
      "Genres: E, n, t, e, r, t, a, i, n, m, e, n, t\n",
      "---\n",
      "Title: Harry Potter - The Illustrated Collection\n",
      "Authors: J, .,  , K, .,  , R, o, w, l, i, n, g\n",
      "Genres: E, n, t, e, r, t, a, i, n, m, e, n, t\n",
      "---\n",
      "Title: Harry Potter and the Cursed Child\n",
      "Authors: J, .,  , K, .,  , R, o, w, l, i, n, g\n",
      "Genres: E, n, t, e, r, t, a, i, n, m, e, n, t\n",
      "---\n",
      "Title: Harry Potter: The Dark Arts (Tiny Book)\n",
      "Authors: I, n, s, i, g, h, t,  , E, d, i, t, i, o, n, s\n",
      "Genres: E, n, t, e, r, t, a, i, n, m, e, n, t\n",
      "---\n",
      "Title: The Psychology of Harry Potter\n",
      "Authors: N, e, i, l,  , M, u, l, h, o, l, l, a, n, d\n",
      "Genres: E, n, t, e, r, t, a, i, n, m, e, n, t\n",
      "---\n",
      "Title: The Ultimate Harry Potter and Philosophy\n",
      "Authors: W, i, l, l, i, a, m,  , I, r, w, i, n\n",
      "Genres: E, n, t, e, r, t, a, i, n, m, e, n, t\n",
      "---\n",
      "Title: A Journey Through Charms and Defence Against the Dark Arts\n",
      "Authors: P, o, t, t, e, r, m, o, r, e,  , P, u, b, l, i, s, h, i, n, g\n",
      "Genres: E, n, t, e, r, t, a, i, n, m, e, n, t\n",
      "---\n",
      "Title: Harry Potter and History\n",
      "Authors: N, a, n, c, y,  , R, e, a, g, i, n\n",
      "Genres: E, n, t, e, r, t, a, i, n, m, e, n, t\n",
      "---\n",
      "Title: Harry Potter and the Philosopher's Stone - 25th Anniversary Edition\n",
      "Authors: J, .,  , K, .,  , R, o, w, l, i, n, g\n",
      "Genres: E, n, t, e, r, t, a, i, n, m, e, n, t\n",
      "---\n",
      "Title: Very Good Lives\n",
      "Authors: J, ., K, .,  , R, o, w, l, i, n, g\n",
      "Genres: E, n, t, e, r, t, a, i, n, m, e, n, t\n",
      "---\n"
     ]
    }
   ],
   "source": [
    "import requests\n",
    "\n",
    "# Define a function to search for books by a keyword\n",
    "def search_books(keyword):\n",
    "    base_url = \"https://www.googleapis.com/books/v1/volumes\"\n",
    "    params = {\"q\": keyword}\n",
    "\n",
    "    response = requests.get(base_url, params=params)\n",
    "\n",
    "    if response.status_code == 200:\n",
    "        data = response.json()\n",
    "        return data.get(\"items\", [])\n",
    "    else:\n",
    "        print(\"Error: Unable to fetch data from Google Books API.\")\n",
    "        return []\n",
    "\n",
    "# Function to extract book details from API response\n",
    "def extract_book_details(book):\n",
    "    title = book.get(\"volumeInfo\", {}).get(\"title\", \"N/A\")\n",
    "    authors = book.get(\"volumeInfo\", {}).get(\"authors\", [\"N/A\"])\n",
    "    genres = book.get(\"volumeInfo\", {}).get(\"categories\", [\"N/A\"])\n",
    "    return {\"title\": title, \"authors\": authors[0], \"genres\": \"Entertainment\"}\n",
    "\n",
    "# Example usage:\n",
    "keyword = \"Harry Potter\"\n",
    "books = search_books(keyword)\n",
    "\n",
    "if books:\n",
    "    print(f\"Books related to '{keyword}':\")\n",
    "    for book in books:\n",
    "        book_details = extract_book_details(book)\n",
    "        book_upd_df =pd.DataFrame([book_details])\n",
    "        book_upd_df.to_csv(\"D:/CodeClause/Library Management System/Data/books_manegment.csv\", mode='a', index=False, header=False)\n",
    "        title = book_details[\"title\"]\n",
    "        authors = \", \".join(book_details[\"authors\"])\n",
    "        genres = \", \".join(book_details[\"genres\"])\n",
    "        print(f\"Title: {title}\")\n",
    "        print(f\"Authors: {authors}\")\n",
    "        print(f\"Genres: {genres}\")\n",
    "        print(\"---\")\n",
    "else:\n",
    "    print(f\"No books found related to '{keyword}'.\")\n"
   ]
  },
  {
   "cell_type": "code",
   "execution_count": 43,
   "metadata": {},
   "outputs": [
    {
     "name": "stdout",
     "output_type": "stream",
     "text": [
      "{'title': 'Very Good Lives', 'authors': ['J.K. Rowling'], 'genres': ['Self-Help']}\n"
     ]
    }
   ],
   "source": [
    "print(book_details)"
   ]
  },
  {
   "cell_type": "code",
   "execution_count": 2,
   "metadata": {},
   "outputs": [],
   "source": []
  },
  {
   "cell_type": "code",
   "execution_count": 40,
   "metadata": {},
   "outputs": [
    {
     "name": "stdout",
     "output_type": "stream",
     "text": [
      "Books related to 'Finance':\n",
      "Books related to 'Accounting':\n"
     ]
    }
   ],
   "source": [
    "import requests\n",
    "import os\n",
    "from datetime import datetime\n",
    "import pandas as pd  # Add this import for DataFrame\n",
    "\n",
    "# Define a function to search for books by a keyword\n",
    "def search_books(keyword):\n",
    "    base_url = \"https://www.googleapis.com/books/v1/volumes\"\n",
    "    params = {\"q\": keyword}\n",
    "\n",
    "    response = requests.get(base_url, params=params)\n",
    "\n",
    "    if response.status_code == 200:\n",
    "        data = response.json()\n",
    "        return data.get(\"items\", [])\n",
    "    else:\n",
    "        print(\"Error: Unable to fetch data from Google Books API.\")\n",
    "        return []\n",
    "\n",
    "# Function to extract book details from API response\n",
    "def extract_book_details(book):\n",
    "    title = book.get(\"volumeInfo\", {}).get(\"title\", \"N/A\")\n",
    "    authors = book.get(\"volumeInfo\", {}).get(\"authors\", [\"N/A\"])\n",
    "    genres = book.get(\"volumeInfo\", {}).get(\"categories\", [\"N/A\"])\n",
    "    date = datetime.now().strftime(\"%Y %m %d\")\n",
    "    published_date = book.get(\"volumeInfo\", {}).get(\"publishedDate\", date)\n",
    "    link = book.get(\"volumeInfo\", {}).get(\"infoLink\", \"N/A\")\n",
    "    return {\"Book Name\": title, \"Authors\": authors[0], \"Genres\": \"Finance\", \"Date\":published_date, \"Link\": link}  \n",
    "\n",
    "# Example usage:\n",
    "ls = [\"Finance\", \"Accounting\"]\n",
    "for keyword in ls:\n",
    "    books = search_books(keyword)\n",
    "    if books:\n",
    "        print(f\"Books related to '{keyword}':\")\n",
    "        for book in books:\n",
    "            book_details = extract_book_details(book)\n",
    "            # title = book_details[\"title\"]\n",
    "            # authors = \", \".join(book_details[\"authors\"])\n",
    "            # genres = book_details[\"genres\"]\n",
    "            # print(f\"Title: {title}\")\n",
    "            # print(f\"Authors: {authors}\")\n",
    "            # print(f\"Genres: {genres}\")\n",
    "            # print(\"---\")\n",
    "            book_upd_df = pd.DataFrame([book_details])\n",
    "            # Assuming you want to save the book details to a CSV file\n",
    "            if os.path.isfile(\"D:/CodeClause/Library Management System/Data/books_manegment.csv\"):\n",
    "                saved_df = pd.read_csv(\"D:/CodeClause/Library Management System/Data/books_manegment.csv\")\n",
    "                merged_df = pd.concat([saved_df, book_upd_df], ignore_index=True)\n",
    "                merged_df.to_csv(\"D:/CodeClause/Library Management System/Data/books_manegment.csv\",index = False)\n",
    "            else:\n",
    "                book_upd_df.to_csv(\"D:/CodeClause/Library Management System/Data/books_manegment.csv\",index = False)\n",
    "    else:\n",
    "        print(f\"No books found related to '{keyword}'.\")\n"
   ]
  },
  {
   "cell_type": "code",
   "execution_count": 41,
   "metadata": {},
   "outputs": [],
   "source": [
    "df = pd.read_csv(\"D:/CodeClause/Library Management System/Data/books_manegment.csv\")"
   ]
  },
  {
   "cell_type": "code",
   "execution_count": 42,
   "metadata": {},
   "outputs": [
    {
     "data": {
      "text/plain": [
       "(190, 5)"
      ]
     },
     "execution_count": 42,
     "metadata": {},
     "output_type": "execute_result"
    }
   ],
   "source": [
    "df.shape"
   ]
  },
  {
   "cell_type": "code",
   "execution_count": 44,
   "metadata": {},
   "outputs": [],
   "source": [
    "import tkinter as tk\n",
    "from tkinter import ttk\n",
    "import webbrowser\n",
    "\n",
    "# Create a tkinter window\n",
    "root = tk.Tk()\n",
    "root.title(\"Book List\")\n",
    "\n",
    "# Create a Treeview widget\n",
    "book_tree = ttk.Treeview(root, columns=(\"Book Name\", \"Author\", \"Link\"))\n",
    "\n",
    "# Define a callback function to open the link when clicked\n",
    "def open_link(event):\n",
    "    item = book_tree.selection()[0]  # Get the selected item\n",
    "    link = book_tree.item(item, \"values\")[2]  # Get the link value\n",
    "    webbrowser.open(link)  # Open the link in the default web browser\n",
    "\n",
    "# Bind the callback function to the \"Link\" column\n",
    "book_tree.bind(\"<ButtonRelease-1>\", open_link)\n",
    "\n",
    "# Add columns to the Treeview\n",
    "book_tree.heading(\"Book Name\", text=\"Book Name\")\n",
    "book_tree.heading(\"Author\", text=\"Author\")\n",
    "book_tree.heading(\"Link\", text=\"View\")\n",
    "\n",
    "# Insert data into the Treeview with \"View\" text instead of actual links\n",
    "book_tree.insert(\"\", \"end\", values=(\"Book 1\", \"Author 1\", \"View\"))\n",
    "book_tree.insert(\"\", \"end\", values=(\"Book 2\", \"Author 2\", \"View\"))\n",
    "\n",
    "# Pack the Treeview widget\n",
    "book_tree.pack()\n",
    "\n",
    "# Start the tkinter main loop\n",
    "root.mainloop()\n"
   ]
  },
  {
   "cell_type": "code",
   "execution_count": 45,
   "metadata": {},
   "outputs": [],
   "source": [
    "import tkinter as tk\n",
    "\n",
    "root = tk.Tk()\n",
    "root.title(\"Library Management System\")\n",
    "root_width = 1000\n",
    "root_height = 500\n",
    "\n",
    "root.geometry(f\"{root_width}x{root_height}\")\n",
    "\n",
    "# Top Left Frame (Large)\n",
    "book_list_frame = tk.Frame(root, width=650, height=350, bg=\"darkgray\")\n",
    "book_list_frame.grid(row=0, column=0, padx=10, pady=10, sticky=\"nsew\")\n",
    "\n",
    "# Top Right Frame (Small)\n",
    "login_frame = tk.Frame(root, width=350, height=150, bg=\"white\")\n",
    "login_frame.grid(row=0, column=1, padx=5, pady=10, sticky=\"nsew\")\n",
    "\n",
    "# Bottom Left Box (Small)\n",
    "lower_left = tk.Frame(root, width=350, height=150, bg=\"white\")\n",
    "lower_left.grid(row=1, column=0, padx=10, pady=10, sticky=\"nsew\")\n",
    "\n",
    "# Bottom Right Box (Large)\n",
    "lower_right = tk.Frame(root, width=650, height=350, bg=\"gray\")\n",
    "lower_right.grid(row=1, column=1, padx=10, pady=10, sticky=\"nsew\")\n",
    "\n",
    "# Configure row and column weights for resizing\n",
    "root.grid_rowconfigure(0, weight=3)\n",
    "root.grid_rowconfigure(1, weight=1)\n",
    "root.grid_columnconfigure(0, weight=2)\n",
    "root.grid_columnconfigure(1, weight=3)\n",
    "\n",
    "root.mainloop()\n"
   ]
  },
  {
   "cell_type": "code",
   "execution_count": null,
   "metadata": {},
   "outputs": [],
   "source": []
  }
 ],
 "metadata": {
  "kernelspec": {
   "display_name": "lib_magmt_sys",
   "language": "python",
   "name": "python3"
  },
  "language_info": {
   "codemirror_mode": {
    "name": "ipython",
    "version": 3
   },
   "file_extension": ".py",
   "mimetype": "text/x-python",
   "name": "python",
   "nbconvert_exporter": "python",
   "pygments_lexer": "ipython3",
   "version": "3.10.4"
  },
  "orig_nbformat": 4
 },
 "nbformat": 4,
 "nbformat_minor": 2
}
