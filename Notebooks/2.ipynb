{
 "cells": [
  {
   "cell_type": "code",
   "execution_count": null,
   "metadata": {},
   "outputs": [],
   "source": [
    "import pandas as pd\n",
    "import numpy as np\n",
    "from sklearn.feature_extraction.text import TfidfVectorizer \n",
    "from sklearn.metrics.pairwise import cosine_similarity\n",
    "import difflib"
   ]
  },
  {
   "cell_type": "code",
   "execution_count": null,
   "metadata": {},
   "outputs": [],
   "source": [
    "df = pd.read_csv(\"D:/CodeClause/Library Management System/Data/books_manegment.csv\")"
   ]
  },
  {
   "cell_type": "code",
   "execution_count": null,
   "metadata": {},
   "outputs": [],
   "source": [
    "df_ = df[[\"Book Name\", \"Authors\", \"Genres\", \"Description\"]]"
   ]
  },
  {
   "cell_type": "code",
   "execution_count": null,
   "metadata": {},
   "outputs": [],
   "source": [
    "df_.fillna(\" \", axis=1, inplace=True)"
   ]
  },
  {
   "cell_type": "code",
   "execution_count": null,
   "metadata": {},
   "outputs": [],
   "source": [
    "x = df_[\"Book Name\"] + \" \" + df_[\"Authors\"] + \" \" + df_[\"Genres\"]"
   ]
  },
  {
   "cell_type": "code",
   "execution_count": null,
   "metadata": {},
   "outputs": [],
   "source": [
    "x"
   ]
  },
  {
   "cell_type": "code",
   "execution_count": null,
   "metadata": {},
   "outputs": [],
   "source": [
    "df_.isnull().sum()"
   ]
  },
  {
   "cell_type": "code",
   "execution_count": null,
   "metadata": {},
   "outputs": [],
   "source": [
    "tfidf = TfidfVectorizer()"
   ]
  },
  {
   "cell_type": "code",
   "execution_count": null,
   "metadata": {},
   "outputs": [],
   "source": [
    "X = tfidf.fit_transform(x)"
   ]
  },
  {
   "cell_type": "code",
   "execution_count": null,
   "metadata": {},
   "outputs": [],
   "source": [
    "print(X)"
   ]
  },
  {
   "cell_type": "code",
   "execution_count": null,
   "metadata": {},
   "outputs": [],
   "source": [
    "similarity_score = cosine_similarity(X)"
   ]
  },
  {
   "cell_type": "code",
   "execution_count": null,
   "metadata": {},
   "outputs": [],
   "source": [
    "similarity_score"
   ]
  },
  {
   "cell_type": "code",
   "execution_count": null,
   "metadata": {},
   "outputs": [],
   "source": [
    "len(similarity_score)"
   ]
  },
  {
   "cell_type": "code",
   "execution_count": null,
   "metadata": {},
   "outputs": [],
   "source": [
    "Favourite_movie_name = input(\"Enter your favourite movie name : \")"
   ]
  },
  {
   "cell_type": "code",
   "execution_count": null,
   "metadata": {},
   "outputs": [],
   "source": [
    "Favourite_movie_name"
   ]
  },
  {
   "cell_type": "code",
   "execution_count": null,
   "metadata": {},
   "outputs": [],
   "source": [
    "all_books_list = df[\"Book Name\"].tolist()"
   ]
  },
  {
   "cell_type": "code",
   "execution_count": null,
   "metadata": {},
   "outputs": [],
   "source": [
    "all_books_list"
   ]
  },
  {
   "cell_type": "code",
   "execution_count": null,
   "metadata": {},
   "outputs": [],
   "source": [
    "import nltk\n",
    "from sklearn.feature_extraction.text import TfidfVectorizer\n",
    "from sklearn.metrics.pairwise import cosine_similarity\n",
    "\n",
    "# User input\n",
    "user_input = \"Python\"\n",
    "\n",
    "# Preprocess and tokenize user input\n",
    "user_tokens = nltk.word_tokenize(user_input)\n",
    "\n",
    "# Preprocess movie descriptions and tokenize\n",
    "movie_descriptions = df[\"Book Name\"].tolist()\n",
    "\n",
    "tfidf_vectorizer = TfidfVectorizer()\n",
    "tfidf_matrix = tfidf_vectorizer.fit_transform(movie_descriptions)\n",
    "\n",
    "# Calculate cosine similarity between user input and movie descriptions\n",
    "user_tfidf = tfidf_vectorizer.transform([\" \".join(user_tokens)])\n",
    "similarity_scores = cosine_similarity(user_tfidf, tfidf_matrix)\n",
    "\n",
    "# Get movie recommendations based on similarity scores\n",
    "recommendations = []\n",
    "for i, movie in enumerate(movies):\n",
    "    recommendations.append({\"title\": df[\"Book Name\"], \"score\": similarity_scores[0][i]})\n",
    "\n",
    "# Sort recommendations by score (higher score means more similar)\n",
    "recommendations = sorted(recommendations, key=lambda x: x[\"score\"], reverse=True)\n",
    "recommendations\n",
    "# Print top N recommendations\n",
    "top_n = 3\n",
    "for i, movie in enumerate(recommendations[:top_n]):\n",
    "    print(f\"{i + 1}. {movie['title']} (Similarity Score: {movie['score']:.2f})\")\n"
   ]
  },
  {
   "cell_type": "code",
   "execution_count": null,
   "metadata": {},
   "outputs": [],
   "source": [
    "similarity_score"
   ]
  },
  {
   "cell_type": "code",
   "execution_count": null,
   "metadata": {},
   "outputs": [],
   "source": [
    "Favourite_movie_name = input(\"Enter your favourite movie name : \")\n",
    "All_Movies_title_list = df['Movie_Title'].tolist()\n",
    "Movie_recommendation = difflib.get_close_matches(\n",
    "    Favourite_movie_name, All_Movies_title_list)\n",
    "close_match = Movie_recommendation[0]\n",
    "Index_of_close_match_movie = df[df.Movie_Title ==\n",
    "                                close_match]['Movie_ID'].values[0]\n",
    "Recommendation_score = list(\n",
    "    enumerate(similarity_score[Index_of_close_match_movie]))\n",
    "sorted_similar_movie = sorted(\n",
    "    Recommendation_score, key=lambda x: x[1], reverse=True)\n",
    "# Print the name of similar movies based on the index\n",
    "print('Top 30 Movies Suggested for you: \\n')\n",
    "i = 1\n",
    "for movie in sorted_similar_movie:\n",
    "    index = movie[0]\n",
    "    title_from_index = df[df.index == index]['Movie_Title'].values[0]\n",
    "    if (i < 31):\n",
    "        print(i, \".\", title_from_index)\n",
    "        i += 1\n"
   ]
  },
  {
   "cell_type": "code",
   "execution_count": null,
   "metadata": {},
   "outputs": [],
   "source": [
    "df_.head()"
   ]
  },
  {
   "cell_type": "code",
   "execution_count": null,
   "metadata": {},
   "outputs": [],
   "source": [
    "import pandas as pd\n",
    "from sklearn.metrics.pairwise import cosine_similarity\n",
    "from sklearn.feature_extraction.text import TfidfVectorizer\n",
    "\n",
    "\n",
    "# Feature Engineering: Create a TF-IDF vectorizer for genre and director\n",
    "tfidf_vectorizer = TfidfVectorizer()\n",
    "tfidf_matrix = tfidf_vectorizer.fit_transform(df_['Genres'] + ' ' + df_['Description'])\n",
    "\n",
    "# Calculate movie similarity using cosine similarity\n",
    "movie_similarity = cosine_similarity(tfidf_matrix, tfidf_matrix)\n",
    "\n",
    "# Define a function to recommend movies\n",
    "def recommend_movies(movie_title, num_recommendations=5):\n",
    "    movie_index = df_[df_['Book Name'] == movie_title].index[0]\n",
    "    similar_movies = list(enumerate(movie_similarity[movie_index]))\n",
    "    sorted_similar_movies = sorted(similar_movies, key=lambda x: x[1], reverse=True)[1:]\n",
    "\n",
    "    recommendations = []\n",
    "    for i in range(num_recommendations):\n",
    "        recommendations.append(df_.iloc[sorted_similar_movies[i][0]]['Title'])\n",
    "\n",
    "    return recommendations\n",
    "\n",
    "# Example: Recommend movies similar to 'Movie1'\n",
    "recommendations = recommend_movies('Python')\n",
    "print('Recommended Movies:')\n",
    "for movie in recommendations:\n",
    "    print(movie)\n"
   ]
  },
  {
   "cell_type": "code",
   "execution_count": null,
   "metadata": {},
   "outputs": [],
   "source": [
    "similarity_scores[0][0]"
   ]
  },
  {
   "cell_type": "code",
   "execution_count": null,
   "metadata": {},
   "outputs": [],
   "source": [
    "\" \".join(user_tokens)"
   ]
  },
  {
   "cell_type": "code",
   "execution_count": null,
   "metadata": {},
   "outputs": [],
   "source": [
    "print(user_tfidf)"
   ]
  },
  {
   "cell_type": "code",
   "execution_count": null,
   "metadata": {},
   "outputs": [],
   "source": [
    "nltk.download('punkt')"
   ]
  },
  {
   "cell_type": "code",
   "execution_count": null,
   "metadata": {},
   "outputs": [],
   "source": [
    "book_recommendation = difflib.get_close_matches(Favourite_movie_name, all_books_list)"
   ]
  },
  {
   "cell_type": "code",
   "execution_count": null,
   "metadata": {},
   "outputs": [],
   "source": [
    "book_recommendation"
   ]
  },
  {
   "cell_type": "code",
   "execution_count": null,
   "metadata": {},
   "outputs": [],
   "source": [
    "book_recommendation = book_recommendation[0]"
   ]
  },
  {
   "cell_type": "code",
   "execution_count": null,
   "metadata": {},
   "outputs": [],
   "source": [
    "book_recommendation"
   ]
  },
  {
   "cell_type": "code",
   "execution_count": null,
   "metadata": {},
   "outputs": [],
   "source": [
    "df_[df_[\"Book Name\"] == book_recommendation].index[0]"
   ]
  },
  {
   "cell_type": "code",
   "execution_count": null,
   "metadata": {},
   "outputs": [],
   "source": [
    "import pandas as pd"
   ]
  },
  {
   "cell_type": "code",
   "execution_count": null,
   "metadata": {},
   "outputs": [],
   "source": [
    "book_df = pd.read_csv(\"D:/CodeClause/Library Management System/Data/books_manegment.csv\")"
   ]
  },
  {
   "cell_type": "code",
   "execution_count": null,
   "metadata": {},
   "outputs": [],
   "source": [
    "book_df[book_df[\"Book Name\"]==\"Deep Learning Illustrated\"].index.values[0]"
   ]
  },
  {
   "cell_type": "code",
   "execution_count": null,
   "metadata": {},
   "outputs": [],
   "source": []
  },
  {
   "cell_type": "code",
   "execution_count": null,
   "metadata": {},
   "outputs": [],
   "source": [
    "import requests\n",
    "\n",
    "# Define a function to search for books by a keyword\n",
    "def search_books(keyword):\n",
    "    base_url = \"https://www.googleapis.com/books/v1/volumes\"\n",
    "    params = {\"q\": keyword}\n",
    "\n",
    "    response = requests.get(base_url, params=params)\n",
    "\n",
    "    if response.status_code == 200:\n",
    "        data = response.json()\n",
    "        return data.get(\"items\", [])\n",
    "    else:\n",
    "        print(\"Error: Unable to fetch data from Google Books API.\")\n",
    "        return []\n",
    "\n",
    "# Function to extract book details from API response\n",
    "def extract_book_details(book):\n",
    "    title = book.get(\"volumeInfo\", {}).get(\"title\", \"N/A\")\n",
    "    authors = book.get(\"volumeInfo\", {}).get(\"authors\", [\"N/A\"])\n",
    "    genres = book.get(\"volumeInfo\", {}).get(\"categories\", [\"N/A\"])\n",
    "    return {\"title\": title, \"authors\": authors[0], \"genres\": \"Entertainment\"}\n",
    "\n",
    "# Example usage:\n",
    "keyword = \"Harry Potter\"\n",
    "books = search_books(keyword)\n",
    "\n",
    "if books:\n",
    "    print(f\"Books related to '{keyword}':\")\n",
    "    for book in books:\n",
    "        book_details = extract_book_details(book)\n",
    "        book_upd_df =pd.DataFrame([book_details])\n",
    "        book_upd_df.to_csv(\"D:/CodeClause/Library Management System/Data/books_manegment.csv\", mode='a', index=False, header=False)\n",
    "        title = book_details[\"title\"]\n",
    "        authors = \", \".join(book_details[\"authors\"])\n",
    "        genres = \", \".join(book_details[\"genres\"])\n",
    "        print(f\"Title: {title}\")\n",
    "        print(f\"Authors: {authors}\")\n",
    "        print(f\"Genres: {genres}\")\n",
    "        print(\"---\")\n",
    "else:\n",
    "    print(f\"No books found related to '{keyword}'.\")\n"
   ]
  },
  {
   "cell_type": "code",
   "execution_count": null,
   "metadata": {},
   "outputs": [],
   "source": [
    "print(book_details)"
   ]
  },
  {
   "cell_type": "code",
   "execution_count": null,
   "metadata": {},
   "outputs": [],
   "source": []
  },
  {
   "cell_type": "code",
   "execution_count": null,
   "metadata": {},
   "outputs": [],
   "source": [
    "import requests\n",
    "import os\n",
    "from datetime import datetime\n",
    "import pandas as pd  # Add this import for DataFrame\n",
    "\n",
    "# Define a function to search for books by a keyword\n",
    "def search_books(keyword):\n",
    "    base_url = \"https://www.googleapis.com/books/v1/volumes\"\n",
    "    params = {\"q\": keyword}\n",
    "\n",
    "    response = requests.get(base_url, params=params)\n",
    "\n",
    "    if response.status_code == 200:\n",
    "        data = response.json()\n",
    "        return data.get(\"items\", [])\n",
    "    else:\n",
    "        print(\"Error: Unable to fetch data from Google Books API.\")\n",
    "        return []\n",
    "\n",
    "# Function to extract book details from API response\n",
    "def extract_book_details(book):\n",
    "    title = book.get(\"volumeInfo\", {}).get(\"title\", \"N/A\")\n",
    "    authors = book.get(\"volumeInfo\", {}).get(\"authors\", [\"N/A\"])\n",
    "    genres = book.get(\"volumeInfo\", {}).get(\"categories\", [\"N/A\"])\n",
    "    date = datetime.now().strftime(\"%Y %m %d\")\n",
    "    published_date = book.get(\"volumeInfo\", {}).get(\"publishedDate\", date)\n",
    "    link = book.get(\"volumeInfo\", {}).get(\"infoLink\", \"N/A\")\n",
    "    return {\"Book Name\": title, \"Authors\": authors[0], \"Genres\": \"Finance\", \"Date\":published_date, \"Link\": link}  \n",
    "\n",
    "# Example usage:\n",
    "ls = [\"Finance\", \"Accounting\"]\n",
    "for keyword in ls:\n",
    "    books = search_books(keyword)\n",
    "    if books:\n",
    "        print(f\"Books related to '{keyword}':\")\n",
    "        for book in books:\n",
    "            book_details = extract_book_details(book)\n",
    "            # title = book_details[\"title\"]\n",
    "            # authors = \", \".join(book_details[\"authors\"])\n",
    "            # genres = book_details[\"genres\"]\n",
    "            # print(f\"Title: {title}\")\n",
    "            # print(f\"Authors: {authors}\")\n",
    "            # print(f\"Genres: {genres}\")\n",
    "            # print(\"---\")\n",
    "            book_upd_df = pd.DataFrame([book_details])\n",
    "            # Assuming you want to save the book details to a CSV file\n",
    "            if os.path.isfile(\"D:/CodeClause/Library Management System/Data/books_manegment.csv\"):\n",
    "                saved_df = pd.read_csv(\"D:/CodeClause/Library Management System/Data/books_manegment.csv\")\n",
    "                merged_df = pd.concat([saved_df, book_upd_df], ignore_index=True)\n",
    "                merged_df.to_csv(\"D:/CodeClause/Library Management System/Data/books_manegment.csv\",index = False)\n",
    "            else:\n",
    "                book_upd_df.to_csv(\"D:/CodeClause/Library Management System/Data/books_manegment.csv\",index = False)\n",
    "    else:\n",
    "        print(f\"No books found related to '{keyword}'.\")\n"
   ]
  },
  {
   "cell_type": "code",
   "execution_count": null,
   "metadata": {},
   "outputs": [],
   "source": [
    "df = pd.read_csv(\"D:/CodeClause/Library Management System/Data/books_manegment.csv\")"
   ]
  },
  {
   "cell_type": "code",
   "execution_count": null,
   "metadata": {},
   "outputs": [],
   "source": [
    "df.shape"
   ]
  },
  {
   "cell_type": "code",
   "execution_count": null,
   "metadata": {},
   "outputs": [],
   "source": [
    "import tkinter as tk\n",
    "from tkinter import ttk\n",
    "import webbrowser\n",
    "\n",
    "# Create a tkinter window\n",
    "root = tk.Tk()\n",
    "root.title(\"Book List\")\n",
    "\n",
    "# Create a Treeview widget\n",
    "book_tree = ttk.Treeview(root, columns=(\"Book Name\", \"Author\", \"Link\"))\n",
    "\n",
    "# Define a callback function to open the link when clicked\n",
    "def open_link(event):\n",
    "    item = book_tree.selection()[0]  # Get the selected item\n",
    "    link = book_tree.item(item, \"values\")[2]  # Get the link value\n",
    "    webbrowser.open(link)  # Open the link in the default web browser\n",
    "\n",
    "# Bind the callback function to the \"Link\" column\n",
    "book_tree.bind(\"<ButtonRelease-1>\", open_link)\n",
    "\n",
    "# Add columns to the Treeview\n",
    "book_tree.heading(\"Book Name\", text=\"Book Name\")\n",
    "book_tree.heading(\"Author\", text=\"Author\")\n",
    "book_tree.heading(\"Link\", text=\"View\")\n",
    "\n",
    "# Insert data into the Treeview with \"View\" text instead of actual links\n",
    "book_tree.insert(\"\", \"end\", values=(\"Book 1\", \"Author 1\", \"View\"))\n",
    "book_tree.insert(\"\", \"end\", values=(\"Book 2\", \"Author 2\", \"View\"))\n",
    "\n",
    "# Pack the Treeview widget\n",
    "book_tree.pack()\n",
    "\n",
    "# Start the tkinter main loop\n",
    "root.mainloop()\n"
   ]
  },
  {
   "cell_type": "code",
   "execution_count": null,
   "metadata": {},
   "outputs": [],
   "source": [
    "import tkinter as tk\n",
    "\n",
    "root = tk.Tk()\n",
    "root.title(\"Library Management System\")\n",
    "root_width = 1000\n",
    "root_height = 500\n",
    "\n",
    "root.geometry(f\"{root_width}x{root_height}\")\n",
    "\n",
    "# Top Left Frame (Large)\n",
    "book_list_frame = tk.Frame(root, width=650, height=350, bg=\"darkgray\")\n",
    "book_list_frame.grid(row=0, column=0, padx=10, pady=10, sticky=\"nsew\")\n",
    "\n",
    "# Top Right Frame (Small)\n",
    "login_frame = tk.Frame(root, width=350, height=150, bg=\"white\")\n",
    "login_frame.grid(row=0, column=1, padx=5, pady=10, sticky=\"nsew\")\n",
    "\n",
    "# Bottom Left Box (Small)\n",
    "lower_left = tk.Frame(root, width=350, height=150, bg=\"white\")\n",
    "lower_left.grid(row=1, column=0, padx=10, pady=10, sticky=\"nsew\")\n",
    "\n",
    "# Bottom Right Box (Large)\n",
    "lower_right = tk.Frame(root, width=650, height=350, bg=\"gray\")\n",
    "lower_right.grid(row=1, column=1, padx=10, pady=10, sticky=\"nsew\")\n",
    "\n",
    "# Configure row and column weights for resizing\n",
    "root.grid_rowconfigure(0, weight=3)\n",
    "root.grid_rowconfigure(1, weight=1)\n",
    "root.grid_columnconfigure(0, weight=2)\n",
    "root.grid_columnconfigure(1, weight=3)\n",
    "\n",
    "root.mainloop()\n"
   ]
  },
  {
   "cell_type": "code",
   "execution_count": 73,
   "metadata": {},
   "outputs": [],
   "source": [
    "df.fillna(\" \", axis = 1, inplace=True)"
   ]
  },
  {
   "cell_type": "code",
   "execution_count": 74,
   "metadata": {},
   "outputs": [
    {
     "name": "stderr",
     "output_type": "stream",
     "text": [
      "[nltk_data] Downloading package punkt to\n",
      "[nltk_data]     C:\\Users\\ehtes\\AppData\\Roaming\\nltk_data...\n",
      "[nltk_data]   Package punkt is already up-to-date!\n"
     ]
    }
   ],
   "source": [
    "import string\n",
    "import nltk\n",
    "from nltk.tokenize import word_tokenize\n",
    "\n",
    "nltk.download('punkt')\n",
    "\n",
    "# Function to preprocess text\n",
    "def preprocess_text(text):\n",
    "    text = text.lower()\n",
    "    text = text.translate(str.maketrans('', '', string.punctuation))\n",
    "    tokens = word_tokenize(text)\n",
    "    return ' '.join(tokens)\n",
    "\n",
    "# Apply preprocessing to relevant columns\n",
    "df['Book Name'] = df['Book Name'].apply(preprocess_text)\n",
    "df['Authors'] = df['Authors'].apply(preprocess_text)\n",
    "df['Description'] = df['Description'].apply(preprocess_text)\n"
   ]
  },
  {
   "cell_type": "code",
   "execution_count": 76,
   "metadata": {},
   "outputs": [],
   "source": [
    "from sklearn.feature_extraction.text import TfidfVectorizer\n",
    "\n",
    "# Combine relevant text columns into a single string\n",
    "df['Combined_Text'] = df['Book Name'] + ' ' + df['Authors'] + ' ' + df['Description']\n",
    "\n",
    "# Create a TF-IDF vectorizer\n",
    "tfidf_vectorizer = TfidfVectorizer(stop_words='english')\n",
    "tfidf_matrix = tfidf_vectorizer.fit_transform(df['Combined_Text'])\n"
   ]
  },
  {
   "cell_type": "code",
   "execution_count": null,
   "metadata": {},
   "outputs": [],
   "source": []
  },
  {
   "cell_type": "code",
   "execution_count": 86,
   "metadata": {},
   "outputs": [
    {
     "data": {
      "text/html": [
       "<div>\n",
       "<style scoped>\n",
       "    .dataframe tbody tr th:only-of-type {\n",
       "        vertical-align: middle;\n",
       "    }\n",
       "\n",
       "    .dataframe tbody tr th {\n",
       "        vertical-align: top;\n",
       "    }\n",
       "\n",
       "    .dataframe thead th {\n",
       "        text-align: right;\n",
       "    }\n",
       "</style>\n",
       "<table border=\"1\" class=\"dataframe\">\n",
       "  <thead>\n",
       "    <tr style=\"text-align: right;\">\n",
       "      <th></th>\n",
       "      <th>Book Name</th>\n",
       "      <th>Description</th>\n",
       "      <th>Authors</th>\n",
       "      <th>Genres</th>\n",
       "      <th>Date</th>\n",
       "      <th>Link</th>\n",
       "      <th>Combined_Text</th>\n",
       "    </tr>\n",
       "  </thead>\n",
       "  <tbody>\n",
       "    <tr>\n",
       "      <th>100</th>\n",
       "      <td>automate the boring stuff with python 2nd edition</td>\n",
       "      <td>the second edition of this bestselling python ...</td>\n",
       "      <td>al sweigart</td>\n",
       "      <td>Technology</td>\n",
       "      <td>2019-11-12</td>\n",
       "      <td>https://play.google.com/store/books/details?id...</td>\n",
       "      <td>automate the boring stuff with python 2nd edit...</td>\n",
       "    </tr>\n",
       "    <tr>\n",
       "      <th>101</th>\n",
       "      <td>expert python programming</td>\n",
       "      <td>refine your python programming skills and buil...</td>\n",
       "      <td>michał jaworski</td>\n",
       "      <td>Technology</td>\n",
       "      <td>2019-04-30</td>\n",
       "      <td>https://play.google.com/store/books/details?id...</td>\n",
       "      <td>expert python programming michał jaworski refi...</td>\n",
       "    </tr>\n",
       "    <tr>\n",
       "      <th>102</th>\n",
       "      <td>black hat python</td>\n",
       "      <td>when it comes to creating powerful and effecti...</td>\n",
       "      <td>justin seitz</td>\n",
       "      <td>Technology</td>\n",
       "      <td>2014-12-21</td>\n",
       "      <td>http://books.google.co.in/books?id=9MS9BQAAQBA...</td>\n",
       "      <td>black hat python justin seitz when it comes to...</td>\n",
       "    </tr>\n",
       "    <tr>\n",
       "      <th>103</th>\n",
       "      <td>python playground</td>\n",
       "      <td>python is a powerful programming language that...</td>\n",
       "      <td>mahesh venkitachalam</td>\n",
       "      <td>Technology</td>\n",
       "      <td>2015-10-01</td>\n",
       "      <td>http://books.google.co.in/books?id=YRHSCgAAQBA...</td>\n",
       "      <td>python playground mahesh venkitachalam python ...</td>\n",
       "    </tr>\n",
       "    <tr>\n",
       "      <th>105</th>\n",
       "      <td>python for dummies</td>\n",
       "      <td>python is one of the most powerful easytoread ...</td>\n",
       "      <td>stef maruch</td>\n",
       "      <td>Technology</td>\n",
       "      <td>2006-09-14</td>\n",
       "      <td>http://books.google.co.in/books?id=LqmaDwAAQBA...</td>\n",
       "      <td>python for dummies stef maruch python is one o...</td>\n",
       "    </tr>\n",
       "  </tbody>\n",
       "</table>\n",
       "</div>"
      ],
      "text/plain": [
       "                                             Book Name  \\\n",
       "100  automate the boring stuff with python 2nd edition   \n",
       "101                          expert python programming   \n",
       "102                                   black hat python   \n",
       "103                                  python playground   \n",
       "105                                 python for dummies   \n",
       "\n",
       "                                           Description               Authors  \\\n",
       "100  the second edition of this bestselling python ...           al sweigart   \n",
       "101  refine your python programming skills and buil...       michał jaworski   \n",
       "102  when it comes to creating powerful and effecti...          justin seitz   \n",
       "103  python is a powerful programming language that...  mahesh venkitachalam   \n",
       "105  python is one of the most powerful easytoread ...           stef maruch   \n",
       "\n",
       "         Genres        Date  \\\n",
       "100  Technology  2019-11-12   \n",
       "101  Technology  2019-04-30   \n",
       "102  Technology  2014-12-21   \n",
       "103  Technology  2015-10-01   \n",
       "105  Technology  2006-09-14   \n",
       "\n",
       "                                                  Link  \\\n",
       "100  https://play.google.com/store/books/details?id...   \n",
       "101  https://play.google.com/store/books/details?id...   \n",
       "102  http://books.google.co.in/books?id=9MS9BQAAQBA...   \n",
       "103  http://books.google.co.in/books?id=YRHSCgAAQBA...   \n",
       "105  http://books.google.co.in/books?id=LqmaDwAAQBA...   \n",
       "\n",
       "                                         Combined_Text  \n",
       "100  automate the boring stuff with python 2nd edit...  \n",
       "101  expert python programming michał jaworski refi...  \n",
       "102  black hat python justin seitz when it comes to...  \n",
       "103  python playground mahesh venkitachalam python ...  \n",
       "105  python for dummies stef maruch python is one o...  "
      ]
     },
     "execution_count": 86,
     "metadata": {},
     "output_type": "execute_result"
    }
   ],
   "source": [
    "from sklearn.metrics.pairwise import cosine_similarity\n",
    "\n",
    "# Function to search for books based on a query\n",
    "def search_books(query, num_results=10):\n",
    "    query_vector = tfidf_vectorizer.transform([preprocess_text(query)])\n",
    "\n",
    "    # Calculate cosine similarity between the query vector and all book vectors\n",
    "    similarity_scores = cosine_similarity(query_vector, tfidf_matrix)\n",
    "\n",
    "    # Get the indices of the top N books\n",
    "    top_indices = similarity_scores.argsort()[0][::-1][:num_results]\n",
    "    top_indices.sort()\n",
    "    # print(top_indices)\n",
    "    # Return the top N books\n",
    "    top_books = df.iloc[top_indices]\n",
    "    return top_books\n",
    "\n",
    "# Example usage:\n",
    "query = 'Python programming'\n",
    "results = search_books(query)\n",
    "results.head()\n"
   ]
  },
  {
   "cell_type": "code",
   "execution_count": 78,
   "metadata": {},
   "outputs": [
    {
     "ename": "NameError",
     "evalue": "name 'top_indices' is not defined",
     "output_type": "error",
     "traceback": [
      "\u001b[1;31m---------------------------------------------------------------------------\u001b[0m",
      "\u001b[1;31mNameError\u001b[0m                                 Traceback (most recent call last)",
      "\u001b[1;32md:\\CodeClause\\Library Management System\\Notebooks\\2.ipynb Cell 49\u001b[0m line \u001b[0;36m1\n\u001b[1;32m----> <a href='vscode-notebook-cell:/d%3A/CodeClause/Library%20Management%20System/Notebooks/2.ipynb#Y104sZmlsZQ%3D%3D?line=0'>1</a>\u001b[0m top_indices\n",
      "\u001b[1;31mNameError\u001b[0m: name 'top_indices' is not defined"
     ]
    }
   ],
   "source": [
    "top_indices"
   ]
  },
  {
   "cell_type": "code",
   "execution_count": 87,
   "metadata": {},
   "outputs": [],
   "source": [
    "import pandas as pd"
   ]
  },
  {
   "cell_type": "code",
   "execution_count": 89,
   "metadata": {},
   "outputs": [],
   "source": [
    "df = pd.read_csv(\"D:/CodeClause/Library Management System/Data/user_info.csv\")"
   ]
  },
  {
   "cell_type": "code",
   "execution_count": 92,
   "metadata": {},
   "outputs": [
    {
     "data": {
      "text/plain": [
       "Name        Ehteesham\n",
       "Username    ehteesham\n",
       "Password          123\n",
       "Name: 1, dtype: object"
      ]
     },
     "execution_count": 92,
     "metadata": {},
     "output_type": "execute_result"
    }
   ],
   "source": [
    "df[df[\"Password\"]==123].iloc[0]"
   ]
  },
  {
   "cell_type": "code",
   "execution_count": 93,
   "metadata": {},
   "outputs": [
    {
     "data": {
      "text/plain": [
       "123456789"
      ]
     },
     "execution_count": 93,
     "metadata": {},
     "output_type": "execute_result"
    }
   ],
   "source": [
    "df['Password'].iloc[0]"
   ]
  },
  {
   "cell_type": "code",
   "execution_count": 2,
   "metadata": {},
   "outputs": [],
   "source": [
    "# Import QRCode from pyqrcode\n",
    "import pyqrcode\n",
    "from pyqrcode import QRCode\n",
    "  \n",
    "  \n",
    "# String which represents the QR code\n",
    "s = \"www.geeksforgeeks.org\"\n",
    "  \n",
    "# Generate QR code\n",
    "url = pyqrcode.create(s)"
   ]
  },
  {
   "cell_type": "code",
   "execution_count": 4,
   "metadata": {},
   "outputs": [
    {
     "name": "stdout",
     "output_type": "stream",
     "text": [
      "QRCode(content=b'www.geeksforgeeks.org', error='H', version=3, mode='binary')\n"
     ]
    }
   ],
   "source": [
    "print(url)"
   ]
  },
  {
   "cell_type": "code",
   "execution_count": 20,
   "metadata": {},
   "outputs": [],
   "source": [
    "import tkinter \n",
    "from PIL import Image, ImageTk\n",
    "import pyqrcode\n",
    "\n",
    "code = pyqrcode.create(\"www.linkedin.com/in/ansari-ehteesham-aqeel\")\n",
    "# print(code.terminal(module_color='black', background='white', quiet_zone=1))\n",
    "a = code.png(\"Code.png\", scale=5)"
   ]
  },
  {
   "cell_type": "code",
   "execution_count": 24,
   "metadata": {},
   "outputs": [],
   "source": [
    "import tkinter\n",
    "\n",
    "code_xbm = code.xbm(scale = 5)\n",
    "root = tkinter.Tk()\n",
    "bghm = tkinter.BitmapImage(data = code_xbm)\n",
    "a = tkinter.Label(root, image = bghm)\n",
    "a.pack()\n",
    "root.mainloop()"
   ]
  },
  {
   "cell_type": "code",
   "execution_count": null,
   "metadata": {},
   "outputs": [],
   "source": []
  }
 ],
 "metadata": {
  "kernelspec": {
   "display_name": "lib_magmt_sys",
   "language": "python",
   "name": "python3"
  },
  "language_info": {
   "codemirror_mode": {
    "name": "ipython",
    "version": 3
   },
   "file_extension": ".py",
   "mimetype": "text/x-python",
   "name": "python",
   "nbconvert_exporter": "python",
   "pygments_lexer": "ipython3",
   "version": "3.10.12"
  },
  "orig_nbformat": 4
 },
 "nbformat": 4,
 "nbformat_minor": 2
}
