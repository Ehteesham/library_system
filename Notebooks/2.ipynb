{
 "cells": [
  {
   "cell_type": "code",
   "execution_count": 1,
   "metadata": {},
   "outputs": [],
   "source": [
    "import pandas as pd\n",
    "import numpy as np\n",
    "from sklearn.feature_extraction.text import TfidfVectorizer \n",
    "from sklearn.metrics.pairwise import cosine_similarity\n",
    "import difflib"
   ]
  },
  {
   "cell_type": "code",
   "execution_count": 2,
   "metadata": {},
   "outputs": [],
   "source": [
    "df = pd.read_csv(\"D:/CodeClause/Library Management System/Data/books_manegment.csv\")"
   ]
  },
  {
   "cell_type": "code",
   "execution_count": 3,
   "metadata": {},
   "outputs": [
    {
     "data": {
      "text/html": [
       "<div>\n",
       "<style scoped>\n",
       "    .dataframe tbody tr th:only-of-type {\n",
       "        vertical-align: middle;\n",
       "    }\n",
       "\n",
       "    .dataframe tbody tr th {\n",
       "        vertical-align: top;\n",
       "    }\n",
       "\n",
       "    .dataframe thead th {\n",
       "        text-align: right;\n",
       "    }\n",
       "</style>\n",
       "<table border=\"1\" class=\"dataframe\">\n",
       "  <thead>\n",
       "    <tr style=\"text-align: right;\">\n",
       "      <th></th>\n",
       "      <th>Book Name</th>\n",
       "      <th>Author Name</th>\n",
       "      <th>Genre</th>\n",
       "      <th>Date</th>\n",
       "      <th>Time</th>\n",
       "    </tr>\n",
       "  </thead>\n",
       "  <tbody>\n",
       "    <tr>\n",
       "      <th>0</th>\n",
       "      <td>Harry Potter</td>\n",
       "      <td>Rilliam</td>\n",
       "      <td>Entertainment</td>\n",
       "      <td>2023 09 15</td>\n",
       "      <td>08:16:24 PM</td>\n",
       "    </tr>\n",
       "    <tr>\n",
       "      <th>1</th>\n",
       "      <td>Your Name</td>\n",
       "      <td>Ansari</td>\n",
       "      <td>Technology</td>\n",
       "      <td>2023 09 15</td>\n",
       "      <td>08:24:58 PM</td>\n",
       "    </tr>\n",
       "    <tr>\n",
       "      <th>2</th>\n",
       "      <td>Ehteesham</td>\n",
       "      <td>silioam</td>\n",
       "      <td>Entertainment</td>\n",
       "      <td>2023 09 15</td>\n",
       "      <td>08:28:39 PM</td>\n",
       "    </tr>\n",
       "    <tr>\n",
       "      <th>3</th>\n",
       "      <td>Alien Part - 3</td>\n",
       "      <td>Ansari</td>\n",
       "      <td>Entertainment</td>\n",
       "      <td>2023 09 15</td>\n",
       "      <td>08:53:33 PM</td>\n",
       "    </tr>\n",
       "    <tr>\n",
       "      <th>4</th>\n",
       "      <td>Alien Part - 2</td>\n",
       "      <td>Ansari EHteesham</td>\n",
       "      <td>Entertainment</td>\n",
       "      <td>2023 09 15</td>\n",
       "      <td>08:54:35 PM</td>\n",
       "    </tr>\n",
       "    <tr>\n",
       "      <th>5</th>\n",
       "      <td>Alien Part 5</td>\n",
       "      <td>Ansari</td>\n",
       "      <td>Finance</td>\n",
       "      <td>2023 09 15</td>\n",
       "      <td>08:55:59 PM</td>\n",
       "    </tr>\n",
       "    <tr>\n",
       "      <th>6</th>\n",
       "      <td>Hello Potter</td>\n",
       "      <td>Why This</td>\n",
       "      <td>Entertainment</td>\n",
       "      <td>2023 09 15</td>\n",
       "      <td>09:49:50 PM</td>\n",
       "    </tr>\n",
       "  </tbody>\n",
       "</table>\n",
       "</div>"
      ],
      "text/plain": [
       "        Book Name       Author Name          Genre        Date         Time\n",
       "0    Harry Potter           Rilliam  Entertainment  2023 09 15  08:16:24 PM\n",
       "1       Your Name            Ansari     Technology  2023 09 15  08:24:58 PM\n",
       "2       Ehteesham           silioam  Entertainment  2023 09 15  08:28:39 PM\n",
       "3  Alien Part - 3            Ansari  Entertainment  2023 09 15  08:53:33 PM\n",
       "4  Alien Part - 2  Ansari EHteesham  Entertainment  2023 09 15  08:54:35 PM\n",
       "5    Alien Part 5           Ansari         Finance  2023 09 15  08:55:59 PM\n",
       "6    Hello Potter         Why This   Entertainment  2023 09 15  09:49:50 PM"
      ]
     },
     "execution_count": 3,
     "metadata": {},
     "output_type": "execute_result"
    }
   ],
   "source": [
    "df"
   ]
  },
  {
   "cell_type": "code",
   "execution_count": 8,
   "metadata": {},
   "outputs": [],
   "source": [
    "df_ = df[[\"Book Name\", \"Author Name\", \"Genre\"]]"
   ]
  },
  {
   "cell_type": "code",
   "execution_count": 9,
   "metadata": {},
   "outputs": [
    {
     "data": {
      "text/html": [
       "<div>\n",
       "<style scoped>\n",
       "    .dataframe tbody tr th:only-of-type {\n",
       "        vertical-align: middle;\n",
       "    }\n",
       "\n",
       "    .dataframe tbody tr th {\n",
       "        vertical-align: top;\n",
       "    }\n",
       "\n",
       "    .dataframe thead th {\n",
       "        text-align: right;\n",
       "    }\n",
       "</style>\n",
       "<table border=\"1\" class=\"dataframe\">\n",
       "  <thead>\n",
       "    <tr style=\"text-align: right;\">\n",
       "      <th></th>\n",
       "      <th>Book Name</th>\n",
       "      <th>Author Name</th>\n",
       "      <th>Genre</th>\n",
       "    </tr>\n",
       "  </thead>\n",
       "  <tbody>\n",
       "    <tr>\n",
       "      <th>0</th>\n",
       "      <td>Harry Potter</td>\n",
       "      <td>Rilliam</td>\n",
       "      <td>Entertainment</td>\n",
       "    </tr>\n",
       "    <tr>\n",
       "      <th>1</th>\n",
       "      <td>Your Name</td>\n",
       "      <td>Ansari</td>\n",
       "      <td>Technology</td>\n",
       "    </tr>\n",
       "    <tr>\n",
       "      <th>2</th>\n",
       "      <td>Ehteesham</td>\n",
       "      <td>silioam</td>\n",
       "      <td>Entertainment</td>\n",
       "    </tr>\n",
       "    <tr>\n",
       "      <th>3</th>\n",
       "      <td>Alien Part - 3</td>\n",
       "      <td>Ansari</td>\n",
       "      <td>Entertainment</td>\n",
       "    </tr>\n",
       "    <tr>\n",
       "      <th>4</th>\n",
       "      <td>Alien Part - 2</td>\n",
       "      <td>Ansari EHteesham</td>\n",
       "      <td>Entertainment</td>\n",
       "    </tr>\n",
       "    <tr>\n",
       "      <th>5</th>\n",
       "      <td>Alien Part 5</td>\n",
       "      <td>Ansari</td>\n",
       "      <td>Finance</td>\n",
       "    </tr>\n",
       "    <tr>\n",
       "      <th>6</th>\n",
       "      <td>Hello Potter</td>\n",
       "      <td>Why This</td>\n",
       "      <td>Entertainment</td>\n",
       "    </tr>\n",
       "  </tbody>\n",
       "</table>\n",
       "</div>"
      ],
      "text/plain": [
       "        Book Name       Author Name          Genre\n",
       "0    Harry Potter           Rilliam  Entertainment\n",
       "1       Your Name            Ansari     Technology\n",
       "2       Ehteesham           silioam  Entertainment\n",
       "3  Alien Part - 3            Ansari  Entertainment\n",
       "4  Alien Part - 2  Ansari EHteesham  Entertainment\n",
       "5    Alien Part 5           Ansari         Finance\n",
       "6    Hello Potter         Why This   Entertainment"
      ]
     },
     "execution_count": 9,
     "metadata": {},
     "output_type": "execute_result"
    }
   ],
   "source": [
    "df_"
   ]
  },
  {
   "cell_type": "code",
   "execution_count": 10,
   "metadata": {},
   "outputs": [],
   "source": [
    "x = df_[\"Book Name\"] + \" \" + df_[\"Author Name\"] + \" \" + df_[\"Genre\"]"
   ]
  },
  {
   "cell_type": "code",
   "execution_count": 11,
   "metadata": {},
   "outputs": [
    {
     "data": {
      "text/plain": [
       "0               Harry Potter Rilliam Entertainment\n",
       "1                      Your Name Ansari Technology\n",
       "2                  Ehteesham silioam Entertainment\n",
       "3              Alien Part - 3 Ansari Entertainment\n",
       "4    Alien Part - 2 Ansari EHteesham Entertainment\n",
       "5                     Alien Part 5 Ansari  Finance\n",
       "6             Hello Potter Why This  Entertainment\n",
       "dtype: object"
      ]
     },
     "execution_count": 11,
     "metadata": {},
     "output_type": "execute_result"
    }
   ],
   "source": [
    "x"
   ]
  },
  {
   "cell_type": "code",
   "execution_count": 12,
   "metadata": {},
   "outputs": [],
   "source": [
    "tfidf = TfidfVectorizer()"
   ]
  },
  {
   "cell_type": "code",
   "execution_count": 13,
   "metadata": {},
   "outputs": [],
   "source": [
    "X = tfidf.fit_transform(x)"
   ]
  },
  {
   "cell_type": "code",
   "execution_count": 18,
   "metadata": {},
   "outputs": [
    {
     "name": "stdout",
     "output_type": "stream",
     "text": [
      "  (0, 3)\t0.31257907911644855\n",
      "  (0, 10)\t0.579262311604141\n",
      "  (0, 9)\t0.48083746527154797\n",
      "  (0, 5)\t0.579262311604141\n",
      "  (1, 12)\t0.5439701462793114\n",
      "  (1, 1)\t0.3350961651087548\n",
      "  (1, 7)\t0.5439701462793114\n",
      "  (1, 15)\t0.5439701462793114\n",
      "  (2, 11)\t0.7106281860049563\n",
      "  (2, 2)\t0.5898824226331707\n",
      "  (2, 3)\t0.3834661767662525\n",
      "  (3, 8)\t0.547816986227786\n",
      "  (3, 0)\t0.547816986227786\n",
      "  (3, 1)\t0.47561899353072534\n",
      "  (3, 3)\t0.4166289382573313\n",
      "  (4, 8)\t0.4612227756787984\n",
      "  (4, 0)\t0.4612227756787984\n",
      "  (4, 2)\t0.539588983585992\n",
      "  (4, 1)\t0.4004372224241028\n",
      "  (4, 3)\t0.3507718091298034\n",
      "  (5, 4)\t0.6473413699710675\n",
      "  (5, 8)\t0.45930805238627415\n",
      "  (5, 0)\t0.45930805238627415\n",
      "  (5, 1)\t0.3987748446808513\n",
      "  (6, 13)\t0.5012403660704882\n",
      "  (6, 14)\t0.5012403660704882\n",
      "  (6, 6)\t0.5012403660704882\n",
      "  (6, 3)\t0.27047720679155046\n",
      "  (6, 9)\t0.41607255000878157\n"
     ]
    }
   ],
   "source": [
    "print(X)"
   ]
  },
  {
   "cell_type": "code",
   "execution_count": 19,
   "metadata": {},
   "outputs": [],
   "source": [
    "similarity_score = cosine_similarity(X)"
   ]
  },
  {
   "cell_type": "code",
   "execution_count": 20,
   "metadata": {},
   "outputs": [
    {
     "data": {
      "text/plain": [
       "array([[1.        , 0.        , 0.1198635 , 0.13022949, 0.10964393,\n",
       "        0.        , 0.28460879],\n",
       "       [0.        , 1.        , 0.        , 0.1593781 , 0.13418498,\n",
       "        0.13362792, 0.        ],\n",
       "       [0.1198635 , 0.        , 1.        , 0.15976311, 0.45280318,\n",
       "        0.        , 0.10371886],\n",
       "       [0.13022949, 0.1593781 , 0.15976311, 1.        , 0.84192858,\n",
       "        0.6928984 , 0.11268863],\n",
       "       [0.10964393, 0.13418498, 0.45280318, 0.84192858, 1.        ,\n",
       "        0.58337096, 0.09487578],\n",
       "       [0.        , 0.13362792, 0.        , 0.6928984 , 0.58337096,\n",
       "        1.        , 0.        ],\n",
       "       [0.28460879, 0.        , 0.10371886, 0.11268863, 0.09487578,\n",
       "        0.        , 1.        ]])"
      ]
     },
     "execution_count": 20,
     "metadata": {},
     "output_type": "execute_result"
    }
   ],
   "source": [
    "similarity_score"
   ]
  },
  {
   "cell_type": "code",
   "execution_count": 21,
   "metadata": {},
   "outputs": [
    {
     "data": {
      "text/plain": [
       "7"
      ]
     },
     "execution_count": 21,
     "metadata": {},
     "output_type": "execute_result"
    }
   ],
   "source": [
    "len(similarity_score)"
   ]
  },
  {
   "cell_type": "code",
   "execution_count": 22,
   "metadata": {},
   "outputs": [],
   "source": [
    "Favourite_movie_name = input(\"Enter your favourite movie name : \")"
   ]
  },
  {
   "cell_type": "code",
   "execution_count": 23,
   "metadata": {},
   "outputs": [],
   "source": [
    "all_books_list = df_[\"Book Name\"].tolist()"
   ]
  },
  {
   "cell_type": "code",
   "execution_count": 25,
   "metadata": {},
   "outputs": [],
   "source": [
    "book_recommendation = difflib.get_close_matches(Favourite_movie_name, all_books_list)"
   ]
  },
  {
   "cell_type": "code",
   "execution_count": 26,
   "metadata": {},
   "outputs": [
    {
     "data": {
      "text/plain": [
       "['Harry Potter', 'Hello Potter']"
      ]
     },
     "execution_count": 26,
     "metadata": {},
     "output_type": "execute_result"
    }
   ],
   "source": [
    "book_recommendation"
   ]
  },
  {
   "cell_type": "code",
   "execution_count": 27,
   "metadata": {},
   "outputs": [],
   "source": [
    "book_recommendation = book_recommendation[0]"
   ]
  },
  {
   "cell_type": "code",
   "execution_count": 28,
   "metadata": {},
   "outputs": [
    {
     "data": {
      "text/plain": [
       "'Harry Potter'"
      ]
     },
     "execution_count": 28,
     "metadata": {},
     "output_type": "execute_result"
    }
   ],
   "source": [
    "book_recommendation"
   ]
  },
  {
   "cell_type": "code",
   "execution_count": 32,
   "metadata": {},
   "outputs": [
    {
     "data": {
      "text/plain": [
       "0"
      ]
     },
     "execution_count": 32,
     "metadata": {},
     "output_type": "execute_result"
    }
   ],
   "source": [
    "df_[df_[\"Book Name\"] == book_recommendation].index[0]"
   ]
  },
  {
   "cell_type": "code",
   "execution_count": 36,
   "metadata": {},
   "outputs": [
    {
     "name": "stdout",
     "output_type": "stream",
     "text": [
      "Books related to 'Harry Potter':\n",
      "Title: Fantastic Beasts and Where to Find Them\n",
      "Authors: J K. ROFLING\n",
      "Genres: N/A\n",
      "---\n",
      "Title: Harry Potter - The Illustrated Collection\n",
      "Authors: J. K. Rowling\n",
      "Genres: N/A\n",
      "---\n",
      "Title: Harry Potter and the Cursed Child\n",
      "Authors: J. K. Rowling, Jack Thorne, John Tiffany\n",
      "Genres: Fiction\n",
      "---\n",
      "Title: Harry Potter: The Dark Arts (Tiny Book)\n",
      "Authors: Insight Editions\n",
      "Genres: Art\n",
      "---\n",
      "Title: The Psychology of Harry Potter\n",
      "Authors: Neil Mulholland\n",
      "Genres: Literary Criticism\n",
      "---\n",
      "Title: The Ultimate Harry Potter and Philosophy\n",
      "Authors: William Irwin, Gregory Bassham\n",
      "Genres: Philosophy\n",
      "---\n",
      "Title: A Journey Through Charms and Defence Against the Dark Arts\n",
      "Authors: Pottermore Publishing\n",
      "Genres: Science\n",
      "---\n",
      "Title: Harry Potter and History\n",
      "Authors: Nancy Reagin\n",
      "Genres: History\n",
      "---\n",
      "Title: Harry Potter and the Philosopher's Stone - 25th Anniversary Edition\n",
      "Authors: J. K. Rowling\n",
      "Genres: Juvenile Fiction\n",
      "---\n",
      "Title: Harry Potter and the Chamber of Secrets\n",
      "Authors: J.K. Rowling\n",
      "Genres: Fiction\n",
      "---\n"
     ]
    }
   ],
   "source": [
    "import requests\n",
    "\n",
    "# Define a function to search for books by a keyword\n",
    "def search_books(keyword):\n",
    "    base_url = \"https://www.googleapis.com/books/v1/volumes\"\n",
    "    params = {\"q\": keyword}\n",
    "\n",
    "    response = requests.get(base_url, params=params)\n",
    "\n",
    "    if response.status_code == 200:\n",
    "        data = response.json()\n",
    "        return data.get(\"items\", [])\n",
    "    else:\n",
    "        print(\"Error: Unable to fetch data from Google Books API.\")\n",
    "        return []\n",
    "\n",
    "# Function to extract book details from API response\n",
    "def extract_book_details(book):\n",
    "    title = book.get(\"volumeInfo\", {}).get(\"title\", \"N/A\")\n",
    "    authors = book.get(\"volumeInfo\", {}).get(\"authors\", [\"N/A\"])\n",
    "    genres = book.get(\"volumeInfo\", {}).get(\"categories\", [\"N/A\"])\n",
    "    return {\"title\": title, \"authors\": authors, \"genres\": genres}\n",
    "\n",
    "# Example usage:\n",
    "keyword = \"Harry Potter\"\n",
    "books = search_books(keyword)\n",
    "\n",
    "if books:\n",
    "    print(f\"Books related to '{keyword}':\")\n",
    "    for book in books:\n",
    "        book_details = extract_book_details(book)\n",
    "        title = book_details[\"title\"]\n",
    "        authors = \", \".join(book_details[\"authors\"])\n",
    "        genres = \", \".join(book_details[\"genres\"])\n",
    "        print(f\"Title: {title}\")\n",
    "        print(f\"Authors: {authors}\")\n",
    "        print(f\"Genres: {genres}\")\n",
    "        print(\"---\")\n",
    "else:\n",
    "    print(f\"No books found related to '{keyword}'.\")\n"
   ]
  },
  {
   "cell_type": "code",
   "execution_count": null,
   "metadata": {},
   "outputs": [],
   "source": []
  }
 ],
 "metadata": {
  "kernelspec": {
   "display_name": "lib_magmt_sys",
   "language": "python",
   "name": "python3"
  },
  "language_info": {
   "codemirror_mode": {
    "name": "ipython",
    "version": 3
   },
   "file_extension": ".py",
   "mimetype": "text/x-python",
   "name": "python",
   "nbconvert_exporter": "python",
   "pygments_lexer": "ipython3",
   "version": "3.10.4"
  },
  "orig_nbformat": 4
 },
 "nbformat": 4,
 "nbformat_minor": 2
}
